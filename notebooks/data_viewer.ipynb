{
 "cells": [
  {
   "cell_type": "markdown",
   "metadata": {},
   "source": [
    "DataFrame Data　の閲覧用"
   ]
  },
  {
   "cell_type": "code",
   "execution_count": 1,
   "metadata": {},
   "outputs": [
    {
     "name": "stdout",
     "output_type": "stream",
     "text": [
      "              着順  枠番  馬番         馬名  性齢    斤量    騎手     タイム     着差     単勝  \\\n",
      "202401010101   1   5   5    ポッドベイダー  牡2  55.0  佐々木大  1:08.8    NaN    1.2   \n",
      "202401010101   2   2   2  ニシノクードクール  牝2  55.0   武藤雅  1:09.1  1.3/4   10.2   \n",
      "202401010101   3   3   3    ロードヴェルト  牡2  55.0  横山武史  1:09.4  1.3/4    7.9   \n",
      "202401010101   4   1   1   ルージュアマリア  牝2  55.0  永野猛蔵  1:10.0  3.1/2    5.9   \n",
      "202401010101   5   4   4   ロードヴァルカン  牡2  54.0  角田大河  1:10.1     クビ   21.3   \n",
      "...           ..  ..  ..        ...  ..   ...   ...     ...    ...    ...   \n",
      "202410030812  11   4   7  グランデスフィーダ  牡4  58.0   荻野極  1:46.6      2   32.3   \n",
      "202410030812  12   6  10   アメリカンチーフ  牡3  54.0  西塚洸二  1:46.8  1.1/4   51.0   \n",
      "202410030812  13   5   8      シブースト  牝4  53.0  吉村誠之  1:49.0      大  167.0   \n",
      "202410030812  14   8  15     ペイシャコパ  牝3  50.0  河原田菜  1:49.1    3/4   85.7   \n",
      "202410030812  15   1   1    オリーボーレン  牝3  53.0  坂井瑠星  1:54.7      大   10.6   \n",
      "\n",
      "                人気       馬体重       調教師  course_len weather race_type  \\\n",
      "202401010101   1.0   462(-2)  [東] 上原佑紀        1200       晴         芝   \n",
      "202401010101   4.0   452(-2)  [東] 武藤善則        1200       晴         芝   \n",
      "202401010101   3.0   416(+6)  [西] 牧浦充徳        1200       晴         芝   \n",
      "202401010101   2.0   410(+6)  [東] 黒岩陽一        1200       晴         芝   \n",
      "202401010101   5.0   438(-2)  [西] 中村直也        1200       晴         芝   \n",
      "...            ...       ...       ...         ...     ...       ...   \n",
      "202410030812   9.0   528(-2)  [西] 池江泰寿        1700       晴       ダート   \n",
      "202410030812  11.0    464(0)  [西] 音無秀孝        1700       晴       ダート   \n",
      "202410030812  15.0   502(-2)  [西] 高野友和        1700       晴       ダート   \n",
      "202410030812  14.0    456(0)  [西] 坂口智康        1700       晴       ダート   \n",
      "202410030812   6.0  462(-10)  [西] 藤岡健一        1700       晴       ダート   \n",
      "\n",
      "             ground_state        date    horse_id jockey_id  \n",
      "202401010101            良  2024年7月20日  2022105244     01197  \n",
      "202401010101            良  2024年7月20日  2022106999     01169  \n",
      "202401010101            良  2024年7月20日  2022100639     01170  \n",
      "202401010101            良  2024年7月20日  2022105762     01188  \n",
      "202401010101            良  2024年7月20日  2022100660     01199  \n",
      "...                   ...         ...         ...       ...  \n",
      "202410030812           稍重  2024年7月21日  2020104913     01160  \n",
      "202410030812           稍重  2024年7月21日  2021110123     01200  \n",
      "202410030812           稍重  2024年7月21日  2020100160     01216  \n",
      "202410030812           稍重  2024年7月21日  2021101090     01204  \n",
      "202410030812           稍重  2024年7月21日  2021105739     01163  \n",
      "\n",
      "[38356 rows x 20 columns]\n"
     ]
    }
   ],
   "source": [
    "import pandas as pd\n",
    "\n",
    "# Load the DataFrame from the pickle file\n",
    "df_2024_results = pd.read_pickle('2024results.pickle')\n",
    "\n",
    "# Display the DataFrame\n",
    "print(df_2024_results)"
   ]
  },
  {
   "cell_type": "markdown",
   "metadata": {},
   "source": [
    "データのレコード数を計算する"
   ]
  },
  {
   "cell_type": "code",
   "execution_count": 4,
   "metadata": {},
   "outputs": [
    {
     "name": "stdout",
     "output_type": "stream",
     "text": [
      "レコード数: 229351\n"
     ]
    }
   ],
   "source": [
    "\n",
    "import pandas as pd\n",
    "\n",
    "df1 = pd.read_pickle('2020results.pickle')\n",
    "df2 = pd.read_pickle('2021results.pickle')\n",
    "df3 = pd.read_pickle('2022results.pickle')\n",
    "df4 = pd.read_pickle('2023results.pickle')\n",
    "df5 = pd.read_pickle('2024results.pickle')\n",
    "combined_df = pd.concat([df1, df2, df3, df4, df5], axis=0)\n",
    "\n",
    "\n",
    "record_count = len(combined_df )\n",
    "# 結果表示\n",
    "print(f\"レコード数: {record_count}\")"
   ]
  }
 ],
 "metadata": {
  "kernelspec": {
   "display_name": "venv",
   "language": "python",
   "name": "python3"
  },
  "language_info": {
   "codemirror_mode": {
    "name": "ipython",
    "version": 3
   },
   "file_extension": ".py",
   "mimetype": "text/x-python",
   "name": "python",
   "nbconvert_exporter": "python",
   "pygments_lexer": "ipython3",
   "version": "3.11.9"
  }
 },
 "nbformat": 4,
 "nbformat_minor": 2
}
