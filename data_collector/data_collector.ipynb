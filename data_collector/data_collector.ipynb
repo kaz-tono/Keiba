{
 "cells": [
  {
   "cell_type": "markdown",
   "metadata": {},
   "source": [
    "競馬データの収集（スクレイピング）"
   ]
  },
  {
   "cell_type": "code",
   "execution_count": 11,
   "metadata": {},
   "outputs": [],
   "source": [
    "import pandas as pd\n",
    "import requests\n",
    "from bs4 import BeautifulSoup\n",
    "import re\n",
    "import time\n",
    "from tqdm import tqdm\n"
   ]
  },
  {
   "cell_type": "markdown",
   "metadata": {},
   "source": [
    "次のコードは、競馬のレース結果データをスクレイピングするクラス `Results` とその静的メソッド `scrape` を定義しています。\n",
    "\n",
    "##### クラス `Results`\n",
    "競馬のレース結果データをスクレイピングするメソッドを提供します。\n",
    "\n",
    "##### メソッド `scrape`\n",
    "与えられたレースIDリストからレース結果データをスクレイピングし、データフレームとして返します。\n",
    "\n",
    "##### パラメータ\n",
    "- `race_id_list` (list): レースIDのリスト\n",
    "\n",
    "##### 戻り値\n",
    "- `race_results_df` (pandas.DataFrame): 全レース結果データをまとめたDataFrame\n",
    "\n",
    "##### 処理の流れ\n",
    "1. `race_results` 辞書を初期化し、レースIDをキーとしてデータフレームを格納します。\n",
    "2. 各レースIDについて、以下の処理を行います。\n",
    "    - 1秒待機してから、指定されたURLからHTMLデータを取得します。\n",
    "    - `pandas.read_html` でメインのテーブルデータを取得し、列名の半角スペースを除去します。\n",
    "    - `BeautifulSoup` で天候、レースの種類、コースの長さ、馬場の状態、日付などの情報を取得し、データフレームに追加します。\n",
    "    - 馬IDと騎手IDをスクレイピングし、データフレームに追加します。\n",
    "    - データフレームのインデックスをレースIDに設定し、`race_results` 辞書に格納します。\n",
    "3. 全てのレース結果データを一つのデータフレームに結合し、返します。\n"
   ]
  },
  {
   "cell_type": "code",
   "execution_count": 2,
   "metadata": {},
   "outputs": [],
   "source": [
    "import pandas as pd\n",
    "import requests\n",
    "from bs4 import BeautifulSoup\n",
    "import re\n",
    "import time\n",
    "from tqdm import tqdm\n",
    "from requests.adapters import HTTPAdapter\n",
    "from requests.packages.urllib3.util.retry import Retry\n",
    "\n",
    "class Results:\n",
    "    @staticmethod\n",
    "    def scrape(race_id_list):\n",
    "        \"\"\"\n",
    "        レース結果データをスクレイピングする関数\n",
    "        Parameters:\n",
    "        ----------\n",
    "        race_id_list : list\n",
    "            レースIDのリスト\n",
    "        Returns:\n",
    "        ----------\n",
    "        race_results_df : pandas.DataFrame\n",
    "            全レース結果データをまとめてDataFrame型にしたもの\n",
    "        \"\"\"\n",
    "        # リトライ機能の設定\n",
    "        session = requests.Session()\n",
    "        retry = Retry(\n",
    "            total=5,  # リトライ回数\n",
    "            backoff_factor=1,  # リトライ間隔\n",
    "            status_forcelist=[500, 502, 503, 504],  # リトライ対象のステータスコード\n",
    "        )\n",
    "        adapter = HTTPAdapter(max_retries=retry)\n",
    "        session.mount('https://', adapter)\n",
    "\n",
    "        # race_idをkeyにしてDataFrame型を格納\n",
    "        race_results = {}\n",
    "        for race_id in tqdm(race_id_list):\n",
    "            time.sleep(1)\n",
    "            try:\n",
    "                url = \"https://db.netkeiba.com/race/\" + race_id\n",
    "                # スクレイピング\n",
    "                html = session.get(url)\n",
    "                html.encoding = \"EUC-JP\"\n",
    "                # メインとなるテーブルデータを取得\n",
    "                df = pd.read_html(html.text)[0]\n",
    "                # 列名に半角スペースがあれば除去する\n",
    "                df = df.rename(columns=lambda x: x.replace(' ', ''))\n",
    "                # 天候、レースの種類、コースの長さ、馬場の状態、日付をスクレイピング\n",
    "                soup = BeautifulSoup(html.text, \"html.parser\")\n",
    "                texts = (\n",
    "                    soup.find(\"div\", attrs={\"class\": \"data_intro\"}).find_all(\"p\")[0].text\n",
    "                    + soup.find(\"div\", attrs={\"class\": \"data_intro\"}).find_all(\"p\")[1].text\n",
    "                )\n",
    "                info = re.findall(r'\\w+', texts)\n",
    "                for text in info:\n",
    "                    if text in [\"芝\", \"ダート\"]:\n",
    "                        df[\"race_type\"] = [text] * len(df)\n",
    "                    if \"障\" in text:\n",
    "                        df[\"race_type\"] = [\"障害\"] * len(df)\n",
    "                    if \"m\" in text:\n",
    "                        df[\"course_len\"] = [int(re.findall(r\"\\d+\", text)[-1])] * len(df)\n",
    "                    if text in [\"良\", \"稍重\", \"重\", \"不良\"]:\n",
    "                        df[\"ground_state\"] = [text] * len(df)\n",
    "                    if text in [\"曇\", \"晴\", \"雨\", \"小雨\", \"小雪\", \"雪\"]:\n",
    "                        df[\"weather\"] = [text] * len(df)\n",
    "                    if \"年\" in text:\n",
    "                        df[\"date\"] = [text] * len(df)\n",
    "                # 馬ID、騎手IDをスクレイピング\n",
    "                horse_id_list = []\n",
    "                horse_a_list = soup.find(\"table\", attrs={\"summary\": \"レース結果\"}).find_all(\n",
    "                    \"a\", attrs={\"href\": re.compile(\"^/horse\")}\n",
    "                )\n",
    "                for a in horse_a_list:\n",
    "                    horse_id = re.findall(r\"\\d+\", a[\"href\"])\n",
    "                    horse_id_list.append(horse_id[0])\n",
    "                jockey_id_list = []\n",
    "                jockey_a_list = soup.find(\"table\", attrs={\"summary\": \"レース結果\"}).find_all(\n",
    "                    \"a\", attrs={\"href\": re.compile(\"^/jockey\")}\n",
    "                )\n",
    "                for a in jockey_a_list:\n",
    "                    jockey_id = re.findall(r\"\\d+\", a[\"href\"])\n",
    "                    jockey_id_list.append(jockey_id[0])\n",
    "                df[\"horse_id\"] = horse_id_list\n",
    "                df[\"jockey_id\"] = jockey_id_list\n",
    "                # インデックスをrace_idにする\n",
    "                df.index = [race_id] * len(df)\n",
    "                race_results[race_id] = df\n",
    "            # 存在しないrace_idを飛ばす\n",
    "            except IndexError:\n",
    "                continue\n",
    "            except AttributeError:  # 存在しないrace_idでAttributeErrorになるページもあるので追加\n",
    "                continue\n",
    "            # wifiの接続が切れた時などでも途中までのデータを返せるようにする\n",
    "            except Exception as e:\n",
    "                print(f\"An error occurred for race_id {race_id}: {e}\")\n",
    "                continue\n",
    "            # Jupyterで停止ボタンを押した時の対処\n",
    "            except:\n",
    "                break\n",
    "        # pd.DataFrame型にして一つのデータにまとめる\n",
    "        race_results_df = pd.concat([race_results[key] for key in race_results])\n",
    "        return race_results_df"
   ]
  },
  {
   "cell_type": "markdown",
   "metadata": {},
   "source": [
    "```markdown\n",
    "次のコードは、指定された範囲の場所、回、日、レース番号の組み合わせからレースIDを生成し、そのリストを用いてレース結果データをスクレイピングしています。\n",
    "```"
   ]
  },
  {
   "cell_type": "code",
   "execution_count": null,
   "metadata": {},
   "outputs": [],
   "source": [
    "years = range(2020, 2024)  # 例: 2020年から2023年まで\n",
    "\n",
    "\n",
    "for year in years:\n",
    "    race_id_list = []\n",
    "    for place in range(1, 11, 1):\n",
    "        for kai in range(1, 7, 1):\n",
    "            for day in range(1, 13, 1):\n",
    "                for r in range(1, 13, 1):\n",
    "                    race_id = str(year) + str(place).zfill(2) + str(kai).zfill(2) + str(day).zfill(2) + str(r).zfill(2)\n",
    "                    race_id_list.append(race_id)\n",
    "\n",
    "    results = Results.scrape(race_id_list)\n",
    "    results.to_pickle(f'{year}results.pickle')\n",
    "\n"
   ]
  },
  {
   "cell_type": "markdown",
   "metadata": {},
   "source": [
    "pickleファイルに保存"
   ]
  },
  {
   "cell_type": "code",
   "execution_count": 15,
   "metadata": {},
   "outputs": [],
   "source": [
    "results.to_pickle(f'{year}results.pickle')"
   ]
  },
  {
   "cell_type": "markdown",
   "metadata": {},
   "source": [
    "pickleファイルのデータの読み込み"
   ]
  },
  {
   "cell_type": "code",
   "execution_count": 16,
   "metadata": {},
   "outputs": [],
   "source": [
    "results = pd.read_pickle(f'{year}results.pickle')"
   ]
  },
  {
   "cell_type": "code",
   "execution_count": null,
   "metadata": {},
   "outputs": [],
   "source": [
    "# データを一覧表示\n",
    "print(results)"
   ]
  }
 ],
 "metadata": {
  "kernelspec": {
   "display_name": "venv",
   "language": "python",
   "name": "python3"
  },
  "language_info": {
   "codemirror_mode": {
    "name": "ipython",
    "version": 3
   },
   "file_extension": ".py",
   "mimetype": "text/x-python",
   "name": "python",
   "nbconvert_exporter": "python",
   "pygments_lexer": "ipython3",
   "version": "3.11.9"
  }
 },
 "nbformat": 4,
 "nbformat_minor": 2
}
